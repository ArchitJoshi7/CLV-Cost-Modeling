{
  "cells": [
    {
      "cell_type": "code",
      "source": [
        "from azureml.core import Workspace, Dataset\n",
        "import pandas as pd\n",
        "\n",
        "# Initialize workspace\n",
        "ws = Workspace.from_config()\n",
        "\n",
        "# Load dataset\n",
        "dataset = Dataset.get_by_name(ws, name='online_retail_raw')\n",
        "df = dataset.to_pandas_dataframe()\n",
        "\n",
        "# Data cleaning\n",
        "df = df[df['CustomerID'].notna()]\n",
        "df = df[df['Quantity'] > 0]\n",
        "df = df[~df['InvoiceNo'].astype(str).str.startswith('C')]\n",
        "\n",
        "# Basic feature engineering\n",
        "df['TotalRevenue'] = df['Quantity'] * df['UnitPrice']\n",
        "df['InvoiceDate'] = pd.to_datetime(df['InvoiceDate'])\n",
        "\n",
        "# Save cleaned data\n",
        "df.to_csv('cleaned_data.csv', index=False)\n",
        "\n",
        "# Upload to datastore\n",
        "datastore = ws.get_default_datastore()\n",
        "datastore.upload_files(files=['cleaned_data.csv'], target_path='clv-data/', overwrite=True)\n",
        "print(\"Data preprocessing complete!\")"
      ],
      "outputs": [],
      "execution_count": null,
      "metadata": {}
    }
  ],
  "metadata": {
    "kernelspec": {
      "display_name": "Python 3.10 - SDK v2",
      "language": "python",
      "name": "python310-sdkv2"
    },
    "language_info": {
      "codemirror_mode": {
        "name": "ipython",
        "version": 3
      },
      "file_extension": ".py",
      "mimetype": "text/x-python",
      "name": "python",
      "nbconvert_exporter": "python",
      "pygments_lexer": "ipython3",
      "version": "3.10.6"
    },
    "microsoft": {
      "ms_spell_check": {
        "ms_spell_check_language": "en"
      }
    },
    "nteract": {
      "version": "nteract-front-end@1.0.0"
    }
  },
  "nbformat": 4,
  "nbformat_minor": 2
}