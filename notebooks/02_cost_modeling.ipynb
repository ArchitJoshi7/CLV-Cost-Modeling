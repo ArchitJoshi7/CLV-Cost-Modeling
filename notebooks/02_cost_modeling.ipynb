{
  "cells": [
    {
      "cell_type": "code",
      "source": [
        "from azureml.core import Workspace, Dataset\n",
        "import pandas as pd\n",
        "\n",
        "# Initialize workspace\n",
        "ws = Workspace.from_config()\n",
        "datastore = ws.get_default_datastore()\n",
        "\n",
        "# Load cleaned data\n",
        "data_ref = [(datastore, 'clv-data/cleaned_data.csv')]\n",
        "dataset = Dataset.Tabular.from_delimited_files(data_ref)\n",
        "df = dataset.to_pandas_dataframe()\n",
        "\n",
        "# Cost calculation\n",
        "SHIPPING_FIXED = 5\n",
        "SHIPPING_PER_ITEM = 0.5\n",
        "HANDLING_PER_ITEM = 0.3\n",
        "\n",
        "df['Cost'] = (df['UnitPrice'] * 0.7) + \\\n",
        "             SHIPPING_FIXED/df.groupby('InvoiceNo')['InvoiceNo'].transform('count') + \\\n",
        "             (SHIPPING_PER_ITEM + HANDLING_PER_ITEM) * df['Quantity']\n",
        "\n",
        "df['Profit'] = df['TotalRevenue'] - df['Cost']\n",
        "\n",
        "# Save data with costs\n",
        "df.to_csv('data_with_costs.csv', index=False)\n",
        "datastore.upload_files(files=['data_with_costs.csv'], target_path='clv-data/', overwrite=True)\n",
        "print(\"Cost modeling complete!\")"
      ],
      "outputs": [],
      "execution_count": 1,
      "metadata": {}
    }
  ],
  "metadata": {
    "kernelspec": {
      "name": "python310-sdkv2",
      "language": "python",
      "display_name": "Python 3.10 - SDK v2"
    },
    "language_info": {
      "name": "python",
      "version": "3.10.16",
      "mimetype": "text/x-python",
      "codemirror_mode": {
        "name": "ipython",
        "version": 3
      },
      "pygments_lexer": "ipython3",
      "nbconvert_exporter": "python",
      "file_extension": ".py"
    },
    "microsoft": {
      "ms_spell_check": {
        "ms_spell_check_language": "en"
      }
    },
    "kernel_info": {
      "name": "python310-sdkv2"
    },
    "nteract": {
      "version": "nteract-front-end@1.0.0"
    }
  },
  "nbformat": 4,
  "nbformat_minor": 2
}