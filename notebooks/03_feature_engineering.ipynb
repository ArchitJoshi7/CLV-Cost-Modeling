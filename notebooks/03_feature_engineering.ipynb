{
  "cells": [
    {
      "cell_type": "code",
      "source": [
        "from azureml.core import Workspace, Dataset\n",
        "import pandas as pd\n",
        "\n",
        "# Initialize workspace\n",
        "ws = Workspace.from_config()\n",
        "datastore = ws.get_default_datastore()\n",
        "\n",
        "# Load cost data\n",
        "data_ref = [(datastore, 'clv-data/data_with_costs.csv')]\n",
        "dataset = Dataset.Tabular.from_delimited_files(data_ref)\n",
        "df = dataset.to_pandas_dataframe()\n",
        "\n",
        "# Customer aggregation\n",
        "customer_data = df.groupby('CustomerID').agg(\n",
        "    Recency=('InvoiceDate', lambda x: (df['InvoiceDate'].max() - x.max()).days),\n",
        "    Frequency=('InvoiceNo', 'nunique'),\n",
        "    Monetary=('TotalRevenue', 'sum'),\n",
        "    Total_Profit=('Profit', 'sum'),\n",
        "    Country=('Country', 'first')\n",
        ").reset_index()\n",
        "\n",
        "# CLV calculation (3-month projection)\n",
        "customer_data['CLV'] = customer_data['Total_Profit'] * 0.25\n",
        "\n",
        "# Save features\n",
        "customer_data.to_csv('customer_features.csv', index=False)\n",
        "datastore.upload_files(files=['customer_features.csv'], target_path='clv-data/', overwrite=True)\n",
        "print(\"Feature engineering complete!\")"
      ],
      "outputs": [],
      "execution_count": null,
      "metadata": {}
    }
  ],
  "metadata": {
    "kernelspec": {
      "name": "python310-sdkv2",
      "language": "python",
      "display_name": "Python 3.10 - SDK v2"
    },
    "language_info": {
      "name": "python",
      "version": "3.10.16",
      "mimetype": "text/x-python",
      "codemirror_mode": {
        "name": "ipython",
        "version": 3
      },
      "pygments_lexer": "ipython3",
      "nbconvert_exporter": "python",
      "file_extension": ".py"
    },
    "microsoft": {
      "ms_spell_check": {
        "ms_spell_check_language": "en"
      }
    },
    "kernel_info": {
      "name": "python310-sdkv2"
    },
    "nteract": {
      "version": "nteract-front-end@1.0.0"
    }
  },
  "nbformat": 4,
  "nbformat_minor": 2
}